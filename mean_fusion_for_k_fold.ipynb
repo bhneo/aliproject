{
 "cells": [
  {
   "cell_type": "code",
   "execution_count": 1,
   "metadata": {},
   "outputs": [],
   "source": [
    "import pandas as pd\n",
    "import numpy as np\n",
    "\n",
    "\n",
    "#设置要处理的stack\n",
    "model_type = 'gbdt' # 模型类型\n",
    "model_num = 1 # 序列号\n",
    "test_set = 'A' # 1为A赛段，2为B赛段"
   ]
  },
  {
   "cell_type": "code",
   "execution_count": 2,
   "metadata": {},
   "outputs": [],
   "source": [
    "def read_stack_results(model, num, test_set):\n",
    "    path = 'data/result/{}/stack{}/'.format(model, num)\n",
    "    sub1 = pd.read_csv(path+'test{}_predict1.csv'.format(test_set))\n",
    "    sub2 = pd.read_csv(path+'test{}_predict2.csv'.format(test_set))\n",
    "    sub3 = pd.read_csv(path+'test{}_predict3.csv'.format(test_set))\n",
    "    sub4 = pd.read_csv(path+'test{}_predict4.csv'.format(test_set))\n",
    "    sub5 = pd.read_csv(path+'test{}_predict5.csv'.format(test_set))\n",
    "    return sub1, sub2, sub3, sub4, sub5"
   ]
  },
  {
   "cell_type": "code",
   "execution_count": 3,
   "metadata": {},
   "outputs": [
    {
     "name": "stdout",
     "output_type": "stream",
     "text": [
      "concat head:\n",
      "      score     score     score     score     score\n",
      "0  0.000113  0.000155  0.000208  0.000159  0.000184\n",
      "1  0.002925  0.005734  0.002381  0.002023  0.002313\n",
      "2  0.000022  0.000023  0.000019  0.000052  0.000011\n",
      "3  0.000958  0.000710  0.000454  0.000395  0.000631\n",
      "4  0.000598  0.000283  0.000162  0.000231  0.000083\n",
      "fusion shape: (491668,)\n",
      "fusion head:\n"
     ]
    },
    {
     "data": {
      "text/plain": [
       "0    0.000164\n",
       "1    0.003075\n",
       "2    0.000025\n",
       "3    0.000630\n",
       "4    0.000271\n",
       "dtype: float64"
      ]
     },
     "execution_count": 3,
     "metadata": {},
     "output_type": "execute_result"
    }
   ],
   "source": [
    "sub1, sub2, sub3, sub4, sub5 = read_stack_results(model_type, model_num, test_set)\n",
    "fusion = pd.concat([sub1.score, sub2.score, sub3.score, sub4.score, sub5.score], 1)\n",
    "print('concat head:')\n",
    "print(fusion.head())\n",
    "fusion_score = fusion.mean(1)\n",
    "print('fusion shape:',fusion_score.shape)\n",
    "print('fusion head:')\n",
    "fusion_score.head()"
   ]
  },
  {
   "cell_type": "code",
   "execution_count": 4,
   "metadata": {},
   "outputs": [
    {
     "name": "stdout",
     "output_type": "stream",
     "text": [
      "original sub1:\n",
      "                                                  id     score\n",
      "0  8e8290c270ec4bc3448dd5edd35c6f059b42d38f9ddd6f...  0.000113\n",
      "1  f36c5fa5c0e7afccf733a4d74c7e06ffe43cc8fd24eda7...  0.002925\n",
      "2  ee85f808b1fd49eaba308527e1686c509dc8e3e5057488...  0.000022\n",
      "3  0df905aa187938d56a9b0816b13f54ac1f87d658a33cd0...  0.000958\n",
      "4  15f532f979c4f092bbbe28e5409c8c3b8454ece8f1ab3e...  0.000598\n",
      "fusion result:\n"
     ]
    },
    {
     "data": {
      "text/html": [
       "<div>\n",
       "<style scoped>\n",
       "    .dataframe tbody tr th:only-of-type {\n",
       "        vertical-align: middle;\n",
       "    }\n",
       "\n",
       "    .dataframe tbody tr th {\n",
       "        vertical-align: top;\n",
       "    }\n",
       "\n",
       "    .dataframe thead th {\n",
       "        text-align: right;\n",
       "    }\n",
       "</style>\n",
       "<table border=\"1\" class=\"dataframe\">\n",
       "  <thead>\n",
       "    <tr style=\"text-align: right;\">\n",
       "      <th></th>\n",
       "      <th>id</th>\n",
       "      <th>score</th>\n",
       "    </tr>\n",
       "  </thead>\n",
       "  <tbody>\n",
       "    <tr>\n",
       "      <th>0</th>\n",
       "      <td>8e8290c270ec4bc3448dd5edd35c6f059b42d38f9ddd6f...</td>\n",
       "      <td>0.000164</td>\n",
       "    </tr>\n",
       "    <tr>\n",
       "      <th>1</th>\n",
       "      <td>f36c5fa5c0e7afccf733a4d74c7e06ffe43cc8fd24eda7...</td>\n",
       "      <td>0.003075</td>\n",
       "    </tr>\n",
       "    <tr>\n",
       "      <th>2</th>\n",
       "      <td>ee85f808b1fd49eaba308527e1686c509dc8e3e5057488...</td>\n",
       "      <td>0.000025</td>\n",
       "    </tr>\n",
       "    <tr>\n",
       "      <th>3</th>\n",
       "      <td>0df905aa187938d56a9b0816b13f54ac1f87d658a33cd0...</td>\n",
       "      <td>0.000630</td>\n",
       "    </tr>\n",
       "    <tr>\n",
       "      <th>4</th>\n",
       "      <td>15f532f979c4f092bbbe28e5409c8c3b8454ece8f1ab3e...</td>\n",
       "      <td>0.000271</td>\n",
       "    </tr>\n",
       "  </tbody>\n",
       "</table>\n",
       "</div>"
      ],
      "text/plain": [
       "                                                  id     score\n",
       "0  8e8290c270ec4bc3448dd5edd35c6f059b42d38f9ddd6f...  0.000164\n",
       "1  f36c5fa5c0e7afccf733a4d74c7e06ffe43cc8fd24eda7...  0.003075\n",
       "2  ee85f808b1fd49eaba308527e1686c509dc8e3e5057488...  0.000025\n",
       "3  0df905aa187938d56a9b0816b13f54ac1f87d658a33cd0...  0.000630\n",
       "4  15f532f979c4f092bbbe28e5409c8c3b8454ece8f1ab3e...  0.000271"
      ]
     },
     "execution_count": 4,
     "metadata": {},
     "output_type": "execute_result"
    }
   ],
   "source": [
    "print('original sub1:')\n",
    "print(sub1.head())\n",
    "print('fusion result:')\n",
    "sub1.score = fusion_score.apply(lambda x: float('%.6f' % x))\n",
    "sub1.head()"
   ]
  },
  {
   "cell_type": "code",
   "execution_count": 5,
   "metadata": {},
   "outputs": [],
   "source": [
    "sub1.to_csv('data/result/{}/stack{}/submission.csv'.format(model_type, model_num), index=False)"
   ]
  }
 ],
 "metadata": {
  "kernelspec": {
   "display_name": "lgb",
   "language": "python",
   "name": "lgb"
  },
  "language_info": {
   "codemirror_mode": {
    "name": "ipython",
    "version": 3
   },
   "file_extension": ".py",
   "mimetype": "text/x-python",
   "name": "python",
   "nbconvert_exporter": "python",
   "pygments_lexer": "ipython3",
   "version": "3.6.5"
  }
 },
 "nbformat": 4,
 "nbformat_minor": 2
}
