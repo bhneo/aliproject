{
 "cells": [
  {
   "cell_type": "code",
   "execution_count": 6,
   "metadata": {},
   "outputs": [],
   "source": [
    "import lightgbm as lgb\n",
    "import pandas as pd\n",
    "import numpy as np\n",
    "from scipy import sparse\n",
    "\n",
    "#设置要处理的stack\n",
    "model_type = 'gbdt' # 模型类型\n",
    "model_num = 5 # 序列号"
   ]
  },
  {
   "cell_type": "code",
   "execution_count": 8,
   "metadata": {},
   "outputs": [],
   "source": [
    "# 加载每一个fold的基模型\n",
    "def load_stack_models(model, num, name1, name2, name3, name4):\n",
    "    model1 = lgb.Booster(model_file='result/stack_fusion/{}/stack{}/{}'.format(model, num, name1))\n",
    "    model2 = lgb.Booster(model_file='result/stack_fusion/{}/stack{}/{}'.format(model, num, name2))\n",
    "    model3 = lgb.Booster(model_file='result/stack_fusion/{}/stack{}/{}'.format(model, num, name3))\n",
    "    model4 = lgb.Booster(model_file='result/stack_fusion/{}/stack{}/{}'.format(model, num, name4))\n",
    "    return model1, model2, model3, model4\n",
    "\n",
    "    \n",
    "model1, model2, model3, model4 = load_stack_models(model_type, model_num, \n",
    "                                                   '234_ml126_mcw1_sa0.7_cs0.7_5000_697148____base_ctr_1_17', \n",
    "                                                   '134_ml126_mcw1_sa0.7_cs0.7_5000_694712____base_ctr_1_12', \n",
    "                                                   '124_ml800_mcw1_sa0.7_cs0.7_5000_699522____base_ctr_0_50', \n",
    "                                                   '123_ml800_mcw1_sa0.7_cs0.7_5000_698721____base_ctr_0_47')"
   ]
  },
  {
   "cell_type": "code",
   "execution_count": 4,
   "metadata": {},
   "outputs": [],
   "source": [
    "test2 = sparse.load_npz('data/test/test2_9_2162.npz')"
   ]
  },
  {
   "cell_type": "code",
   "execution_count": 5,
   "metadata": {},
   "outputs": [],
   "source": [
    "res2 = pd.read_csv('data/test/res2.csv')"
   ]
  },
  {
   "cell_type": "code",
   "execution_count": 6,
   "metadata": {},
   "outputs": [
    {
     "data": {
      "text/plain": [
       "(11727304, 2162)"
      ]
     },
     "execution_count": 6,
     "metadata": {},
     "output_type": "execute_result"
    }
   ],
   "source": [
    "test2.shape"
   ]
  },
  {
   "cell_type": "code",
   "execution_count": 7,
   "metadata": {},
   "outputs": [
    {
     "data": {
      "text/plain": [
       "(11727304, 2)"
      ]
     },
     "execution_count": 7,
     "metadata": {},
     "output_type": "execute_result"
    }
   ],
   "source": [
    "res2.shape"
   ]
  },
  {
   "cell_type": "code",
   "execution_count": 10,
   "metadata": {},
   "outputs": [
    {
     "name": "stdout",
     "output_type": "stream",
     "text": [
      "reading test2...\n",
      "test shape: (11727304, 2162)\n",
      "predicting...\n",
      "saving submission to result/test2_predict1.csv\n",
      "saving submission to result/test2_predict2.csv\n",
      "saving submission to result/test2_predict3.csv\n",
      "saving submission to result/test2_predict4.csv\n"
     ]
    }
   ],
   "source": [
    "print('reading test2...')\n",
    "test_x = test2\n",
    "print('test shape:', test_x.shape)\n",
    "print('predicting...')\n",
    "\n",
    "for i,model in enumerate([model1, model2, model3, model4],start=1):\n",
    "    res2['score'] = model.predict(test_x)\n",
    "    res2['score'] = res2['score'].apply(lambda x: float('%.6f' % x))\n",
    "    \n",
    "    print('saving submission to result/test{}_predict{}.csv'.format(2, i))\n",
    "    res2.to_csv('result/test{}_predict{}.csv'.format(2, i), index=False)\n"
   ]
  },
  {
   "cell_type": "code",
   "execution_count": 10,
   "metadata": {},
   "outputs": [],
   "source": [
    "# 加载训练集\n",
    "data1 = sparse.load_npz('data/tr1/tr1_9_2162.npz')\n",
    "data2 = sparse.load_npz('data/tr2/tr2_9_2162.npz')\n",
    "data3 = sparse.load_npz('data/tr3/tr3_9_2162.npz')\n",
    "data4 = sparse.load_npz('data/tr4/tr4_9_2162.npz')"
   ]
  },
  {
   "cell_type": "code",
   "execution_count": 11,
   "metadata": {},
   "outputs": [
    {
     "name": "stdout",
     "output_type": "stream",
     "text": [
      "pre1 compelted!\n",
      "pre2 compelted!\n",
      "pre3 compelted!\n",
      "pre4 compelted!\n"
     ]
    }
   ],
   "source": [
    "# 在各训练集上预测\n",
    "pre1 = model1.predict(data1)\n",
    "print('pre1 compelted!')\n",
    "del data1\n",
    "pre2 = model2.predict(data2)\n",
    "print('pre2 compelted!')\n",
    "del data2\n",
    "pre3 = model3.predict(data3)\n",
    "print('pre3 compelted!')\n",
    "del data3\n",
    "pre4 = model4.predict(data4)\n",
    "print('pre4 compelted!')\n",
    "del data4"
   ]
  },
  {
   "cell_type": "code",
   "execution_count": 12,
   "metadata": {},
   "outputs": [],
   "source": [
    "# 保存预测结果，作为模型融合阶段的特征\n",
    "predict1 = pd.DataFrame({'prob':pre1})\n",
    "predict2 = pd.DataFrame({'prob':pre2})\n",
    "predict3 = pd.DataFrame({'prob':pre3})\n",
    "predict4 = pd.DataFrame({'prob':pre4})\n",
    "predict1.to_csv('result/stack_fusion/{}/stack{}/tr1_predict.csv'.format(model_type, model_num),index=False)\n",
    "predict2.to_csv('result/stack_fusion/{}/stack{}/tr2_predict.csv'.format(model_type, model_num),index=False)\n",
    "predict3.to_csv('result/stack_fusion/{}/stack{}/tr3_predict.csv'.format(model_type, model_num),index=False)\n",
    "predict4.to_csv('result/stack_fusion/{}/stack{}/tr4_predict.csv'.format(model_type, model_num),index=False)"
   ]
  }
 ],
 "metadata": {
  "kernelspec": {
   "display_name": "lgb",
   "language": "python",
   "name": "lgb"
  },
  "language_info": {
   "codemirror_mode": {
    "name": "ipython",
    "version": 3
   },
   "file_extension": ".py",
   "mimetype": "text/x-python",
   "name": "python",
   "nbconvert_exporter": "python",
   "pygments_lexer": "ipython3",
   "version": "3.6.5"
  }
 },
 "nbformat": 4,
 "nbformat_minor": 2
}
